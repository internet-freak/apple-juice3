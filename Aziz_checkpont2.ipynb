{
 "cells": [
  {
   "cell_type": "code",
   "execution_count": 7,
   "id": "21172aee",
   "metadata": {},
   "outputs": [
    {
     "name": "stdout",
     "output_type": "stream",
     "text": [
      "36\n"
     ]
    }
   ],
   "source": [
    "\n",
    "# Python program to multiply all values in the\n",
    "# list using traversal\n",
    " \n",
    " \n",
    "def multiplyList(myList):\n",
    " \n",
    "    # Multiply elements one by one\n",
    "    result = 1\n",
    "    for x in myList:\n",
    "        result = result * x\n",
    "    return result\n",
    " \n",
    " \n",
    "# Driver code\n",
    "list1 = [2, 3, 6]\n",
    "print(multiplyList(list1))"
   ]
  },
  {
   "cell_type": "code",
   "execution_count": 6,
   "id": "c84162fc",
   "metadata": {},
   "outputs": [
    {
     "name": "stdout",
     "output_type": "stream",
     "text": [
      "Sorted list: [(2, 1), (1, 2), (2, 3), (4, 4), (2, 5)]\n"
     ]
    }
   ],
   "source": [
    "# takes second element for sort\n",
    "def secondElement(elem):\n",
    "    return elem[1]\n",
    " \n",
    "my_list=[(2, 5), (1, 2), (4, 4), (2, 3), (2, 1)]\n",
    " \n",
    "# sorts with a key\n",
    "my_list.sort(key=secondElement)\n",
    " \n",
    "print('Sorted list:', my_list)"
   ]
  },
  {
   "cell_type": "code",
   "execution_count": 5,
   "id": "b38485b8",
   "metadata": {},
   "outputs": [
    {
     "name": "stdout",
     "output_type": "stream",
     "text": [
      "Counter({'a': 400, 'b': 400, 'd': 400, 'c': 300})\n"
     ]
    }
   ],
   "source": [
    "from collections import Counter\n",
    "d1 = {'a': 100, 'b': 200, 'c':300}\n",
    "\n",
    "d2 = {'a': 300, 'b': 200, 'd':400}\n",
    "\n",
    "res = Counter(d1) + Counter(d2)\n",
    "print(res)"
   ]
  },
  {
   "cell_type": "code",
   "execution_count": 4,
   "id": "f620675f",
   "metadata": {},
   "outputs": [
    {
     "name": "stdout",
     "output_type": "stream",
     "text": [
      "Enter the range of numbers: 6\n",
      "{1: 1, 2: 4, 3: 9, 4: 16, 5: 25, 6: 36}\n"
     ]
    }
   ],
   "source": [
    "n = int(input(\"Enter the range of numbers: \"))\n",
    "squared_dict = {i: i*i for i in range(1, n+1)}\n",
    "print(squared_dict)"
   ]
  },
  {
   "cell_type": "code",
   "execution_count": 3,
   "id": "dfd3016f",
   "metadata": {},
   "outputs": [
    {
     "name": "stdout",
     "output_type": "stream",
     "text": [
      "Sorting of Tuples Using Its Float Element :: [('item3', '24.5'), ('item2', '15.10'), ('item1', '12.20')]\n"
     ]
    }
   ],
   "source": [
    "\n",
    "def sort_tuple(X):\n",
    "    return(sorted(X, key = lambda n: float(n[1]), reverse = True))\n",
    "# The driver Code\n",
    "X = [('item1', '12.20'), ('item2', '15.10'), ('item3', '24.5')]\n",
    "print(\"Sorting of Tuples Using Its Float Element ::\",sort_tuple(X))"
   ]
  },
  {
   "cell_type": "code",
   "execution_count": 2,
   "id": "49df8aaf",
   "metadata": {},
   "outputs": [
    {
     "name": "stdout",
     "output_type": "stream",
     "text": [
      "{'karim', 'aziz', 'islam', 'abdo'}\n",
      "{'aziz', 'islam', 'abdo'}\n"
     ]
    }
   ],
   "source": [
    "names = {\"aziz\", \"karim\", \"abdo\"}\n",
    "\n",
    "names.add(\"islam\")\n",
    "print(names)\n",
    "\n",
    "names = {\"islam\",\"aziz\", \"karim\", \"abdo\"}\n",
    "\n",
    "names.remove(\"karim\")\n",
    "print(names)\n"
   ]
  }
 ],
 "metadata": {
  "kernelspec": {
   "display_name": "Python 3 (ipykernel)",
   "language": "python",
   "name": "python3"
  },
  "language_info": {
   "codemirror_mode": {
    "name": "ipython",
    "version": 3
   },
   "file_extension": ".py",
   "mimetype": "text/x-python",
   "name": "python",
   "nbconvert_exporter": "python",
   "pygments_lexer": "ipython3",
   "version": "3.10.9"
  }
 },
 "nbformat": 4,
 "nbformat_minor": 5
}
